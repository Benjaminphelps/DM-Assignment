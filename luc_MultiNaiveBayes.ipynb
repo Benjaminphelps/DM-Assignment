{
 "cells": [
  {
   "cell_type": "code",
   "id": "initial_id",
   "metadata": {
    "collapsed": true,
    "ExecuteTime": {
     "end_time": "2025-10-13T07:54:44.154525Z",
     "start_time": "2025-10-13T07:54:42.354405Z"
    }
   },
   "source": [
    "import pandas as pd\n",
    "from sklearn.feature_extraction.text import CountVectorizer\n",
    "from sklearn.model_selection import train_test_split\n",
    "from sklearn.naive_bayes import MultinomialNB\n",
    "from sklearn.metrics import accuracy_score\n",
    "\n"
   ],
   "outputs": [],
   "execution_count": 1
  },
  {
   "metadata": {
    "ExecuteTime": {
     "end_time": "2025-10-13T07:56:56.823790Z",
     "start_time": "2025-10-13T07:56:56.808152Z"
    }
   },
   "cell_type": "code",
   "source": [
    "df = pd.read_pickle(\"data_prepro_train_01.pkl\")\n",
    "\n",
    "df_test = pd.read_pickle(\"data_prepro_test_01.pkl\")\n",
    "# Example: a DataFrame with 'text' and 'label' columns\n",
    "\n",
    "'''data = {\n",
    "    'text': [\n",
    "        'Free money now',\n",
    "        'Call now to claim your prize',\n",
    "        'Meet me at the park',\n",
    "        'Lunch plans?',\n",
    "        'Win a new car today!',\n",
    "        'Exclusive offer for you'\n",
    "    ],\n",
    "    'label': ['spam', 'spam', 'not spam', 'not spam', 'spam', 'spam']\n",
    "}\n",
    "df = pd.DataFrame(data)'''\n",
    "\n",
    "# Split the data\n",
    "#X_train, X_test, y_train, y_test = train_test_split(\n",
    "#    df['text'], df['label'], test_size=0.2, random_state=42)\n",
    "\n",
    "X_train = df['text']\n",
    "y_train = df['label']\n",
    "\n",
    "X_test = df_test['text']\n",
    "y_test = df_test['label']"
   ],
   "id": "a3222397078268c",
   "outputs": [],
   "execution_count": 10
  },
  {
   "metadata": {
    "ExecuteTime": {
     "end_time": "2025-10-13T07:56:59.244995Z",
     "start_time": "2025-10-13T07:56:59.116732Z"
    }
   },
   "cell_type": "code",
   "source": [
    "# Vectorize the texts\n",
    "vectorizer = CountVectorizer()\n",
    "X_train_vec = vectorizer.fit_transform(X_train)\n",
    "X_test_vec = vectorizer.transform(X_test)\n",
    "\n",
    "# Train MultinomialNB\n",
    "clf = MultinomialNB()\n",
    "clf.fit(X_train_vec, y_train)\n",
    "\n",
    "# Predict and evaluate\n",
    "y_pred = clf.predict(X_test_vec)\n",
    "print(\"Accuracy:\", accuracy_score(y_test, y_pred))"
   ],
   "id": "80c700c719653c7b",
   "outputs": [
    {
     "name": "stdout",
     "output_type": "stream",
     "text": [
      "Accuracy: 0.89375\n"
     ]
    }
   ],
   "execution_count": 11
  }
 ],
 "metadata": {
  "kernelspec": {
   "display_name": "Python 3",
   "language": "python",
   "name": "python3"
  },
  "language_info": {
   "codemirror_mode": {
    "name": "ipython",
    "version": 2
   },
   "file_extension": ".py",
   "mimetype": "text/x-python",
   "name": "python",
   "nbconvert_exporter": "python",
   "pygments_lexer": "ipython2",
   "version": "2.7.6"
  }
 },
 "nbformat": 4,
 "nbformat_minor": 5
}
