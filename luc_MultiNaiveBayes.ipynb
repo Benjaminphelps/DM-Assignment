{
 "cells": [
  {
   "cell_type": "code",
   "execution_count": 4,
   "id": "initial_id",
   "metadata": {
    "ExecuteTime": {
     "end_time": "2025-10-10T08:37:55.389129Z",
     "start_time": "2025-10-10T08:37:53.559581Z"
    },
    "collapsed": true
   },
   "outputs": [],
   "source": [
    "import pandas as pd\n",
    "from sklearn.feature_extraction.text import CountVectorizer\n",
    "from sklearn.model_selection import train_test_split\n",
    "from sklearn.naive_bayes import MultinomialNB\n",
    "from sklearn.metrics import accuracy_score\n",
    "\n"
   ]
  },
  {
   "cell_type": "code",
   "execution_count": 12,
   "id": "a3222397078268c",
   "metadata": {
    "ExecuteTime": {
     "end_time": "2025-10-10T08:39:20.007372Z",
     "start_time": "2025-10-10T08:39:19.801776Z"
    }
   },
   "outputs": [
    {
     "name": "stdout",
     "output_type": "stream",
     "text": [
      "                                                  text label\n",
      "0    My wife and I just spent a long weekend at the...  real\n",
      "1    I was very much looking forward to our stay at...  real\n",
      "2    Our check-in was great, but then we got into o...  real\n",
      "3    As a regular visitor to Chicago and a freuent ...  real\n",
      "4    I found this hotel in the \"Small Luxury Hotels...  real\n",
      "..                                                 ...   ...\n",
      "635  Sofitel not-so-luxury Hotels I recently checke...  fake\n",
      "636  While visiting the Chicago area, we chose the ...  fake\n",
      "637  The Sofitel Chicago Water Tower in the downtow...  fake\n",
      "638  I stayed this hotel for 2 nights. I had high h...  fake\n",
      "639  Our stay at the Sofitel was definitely below o...  fake\n",
      "\n",
      "[640 rows x 2 columns]\n",
      "Accuracy: 0.75\n"
     ]
    }
   ],
   "source": [
    "df = pd.read_pickle(\"data_prepro01.pkl\")\n",
    "# Example: a DataFrame with 'text' and 'label' columns\n",
    "\n",
    "print(df)\n",
    "\n",
    "'''data = {\n",
    "    'text': [\n",
    "        'My wife and I just spent a long weekend at the...',\n",
    "        'I was very much looking forward to our stay at...',\n",
    "        'Sofitel not-so-luxury Hotels I recently checke...',\n",
    "        'Our check-in was great, but then we got into o...',\n",
    "        'While visiting the Chicago area, we chose the ...',\n",
    "        'I found this hotel in the \"Small Luxury Hotels...'\n",
    "    ],\n",
    "    'label': ['real', 'real', 'fake', 'real', 'fake', 'real']\n",
    "}\n",
    "df = pd.DataFrame(data)'''\n",
    "\n",
    "# Split the data\n",
    "X_train, X_test, y_train, y_test = train_test_split(\n",
    "    df['text'], df['label'], test_size=0.2, random_state=42)\n",
    "\n",
    "# Vectorize the texts\n",
    "vectorizer = CountVectorizer()\n",
    "X_train_vec = vectorizer.fit_transform(X_train)\n",
    "X_test_vec = vectorizer.transform(X_test)\n",
    "\n",
    "# Train MultinomialNB\n",
    "clf = MultinomialNB()\n",
    "clf.fit(X_train_vec, y_train)\n",
    "\n",
    "# Predict and evaluate\n",
    "y_pred = clf.predict(X_test_vec)\n",
    "print(\"Accuracy:\", accuracy_score(y_test, y_pred))"
   ]
  }
 ],
 "metadata": {
  "kernelspec": {
   "display_name": "base",
   "language": "python",
   "name": "python3"
  },
  "language_info": {
   "codemirror_mode": {
    "name": "ipython",
    "version": 3
   },
   "file_extension": ".py",
   "mimetype": "text/x-python",
   "name": "python",
   "nbconvert_exporter": "python",
   "pygments_lexer": "ipython3",
   "version": "3.12.9"
  }
 },
 "nbformat": 4,
 "nbformat_minor": 5
}
