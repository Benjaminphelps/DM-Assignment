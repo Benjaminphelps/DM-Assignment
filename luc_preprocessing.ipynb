{
 "cells": [
  {
   "cell_type": "code",
   "id": "initial_id",
   "metadata": {
    "collapsed": true
   },
   "source": [
    "from sklearn.feature_extraction.text import CountVectorizer\n",
    "import numpy as np\n",
    "import os"
   ],
   "outputs": [],
   "execution_count": null
  },
  {
   "metadata": {},
   "cell_type": "code",
   "source": [
    "def load_data(training_arr, testing_arr, path):\n",
    "    # Load training set\n",
    "    for folder in os.listdir(path):\n",
    "        extended_path = path+\"/\"+folder\n",
    "        if folder != 'fold5':\n",
    "            for filename in os.listdir(extended_path):\n",
    "                if filename.endswith('.txt'):\n",
    "                    with open(os.path.join(extended_path, filename), encoding='utf-8') as f:\n",
    "                        training_arr.append(f.read())\n",
    "        else:\n",
    "            for filename in os.listdir(extended_path):\n",
    "                if filename.endswith('.txt'):\n",
    "                    with open(os.path.join(extended_path, filename), encoding='utf-8') as f:\n",
    "                        testing_arr.append(f.read())"
   ],
   "id": "bb23186a368de81b",
   "outputs": [],
   "execution_count": null
  },
  {
   "metadata": {},
   "cell_type": "code",
   "source": [
    "negative_real_path = 'op_spam_v1.4/negative_polarity/deceptive_from_MTurk'\n",
    "\n",
    "# negative_false_path = 'op_spam_v1.4/negative_polarity/deceptive_from_MTurk'\n",
    "\n",
    "print (\"TEST:\", os.listdir(negative_real_path))\n",
    "\n",
    "neg_real_train = []\n",
    "neg_real_test = []\n",
    "neg_fake_train = []\n",
    "neg_fake_test = []\n",
    "\n",
    "neg_real_path = 'op_spam_v1.4/negative_polarity/truthful_from_Web'\n",
    "neg_fake_path = 'op_spam_v1.4/negative_polarity/deceptive_from_MTurk'\n",
    "\n"
   ],
   "id": "c9b751059bfc1cda",
   "outputs": [],
   "execution_count": null
  },
  {
   "metadata": {},
   "cell_type": "code",
   "source": [
    "load_data(neg_real_train, neg_real_test, neg_real_path)\n",
    "load_data(neg_fake_train, neg_fake_test, neg_fake_path)\n",
    "\n",
    "#corpus = np.concatenate((neg_real_train, neg_real_test, neg_fake_train, neg_fake_test))\n",
    "\n",
    "corpus = np.concatenate((neg_real_train,neg_fake_train))\n",
    "\n",
    "test_corpus = np.concatenate((neg_real_test,neg_fake_test))\n",
    "\n",
    "vectorizer = CountVectorizer()\n",
    "\n",
    "# Fit and transform the corpus\n",
    "X = vectorizer.fit_transform(corpus)\n",
    "\n",
    "# Display the vocabulary\n",
    "print(\"Vocabulary:\", vectorizer.vocabulary_)\n",
    "\n",
    "# Display the Bag of Words frequency matrix\n",
    "print(\"Bag of Words (as array):\\n\", X.toarray())"
   ],
   "id": "dae523020f114539",
   "outputs": [],
   "execution_count": null
  },
  {
   "metadata": {},
   "cell_type": "code",
   "source": [
    "vocab = vectorizer.get_feature_names_out()\n",
    "word_counts = np.asarray(X.sum(axis=0)).flatten()\n",
    "word_freq = list(zip(vocab, word_counts))\n",
    "sorted_word_freq = sorted(word_freq, key=lambda x: x[1], reverse=True)\n",
    "for word, count in sorted_word_freq:\n",
    "    print(f\"{word}: {count}\")"
   ],
   "id": "feb14459b5296fdd",
   "outputs": [],
   "execution_count": null
  },
  {
   "metadata": {},
   "cell_type": "code",
   "source": "neg_real_train[0]\n",
   "id": "71f6817374128f63",
   "outputs": [],
   "execution_count": null
  },
  {
   "metadata": {},
   "cell_type": "code",
   "source": [
    "import pandas as pd\n",
    "entries = neg_real_train + neg_fake_train\n",
    "labels = ['real'] * len(neg_real_train) + ['fake'] * len(neg_fake_train)\n",
    "\n",
    "# Create DataFrame\n",
    "df = pd.DataFrame({\n",
    "    'text': entries,\n",
    "    'label': labels\n",
    "})\n",
    "\n",
    "print(df)"
   ],
   "id": "ce139fdcd1a4c876",
   "outputs": [],
   "execution_count": null
  },
  {
   "metadata": {},
   "cell_type": "code",
   "source": [
    "entries_test = neg_real_test + neg_fake_test\n",
    "labels_test = ['real'] * len(neg_real_test) + ['fake'] * len(neg_fake_test)\n",
    "\n",
    "# Create DataFrame\n",
    "df_test = pd.DataFrame({\n",
    "    'text': entries_test,\n",
    "    'label': labels_test\n",
    "})\n",
    "\n",
    "print(df_test)"
   ],
   "id": "5cba6c720f10fc16",
   "outputs": [],
   "execution_count": null
  },
  {
   "metadata": {},
   "cell_type": "code",
   "source": [
    "df.to_pickle(\"untracked_data/data_prepro_train_01.pkl\")\n",
    "df_test.to_pickle(\"untracked_data/data_prepro_test_01.pkl\")"
   ],
   "id": "bc161cf6c3efb420",
   "outputs": [],
   "execution_count": null
  },
  {
   "metadata": {},
   "cell_type": "code",
   "source": "print(\"hey\")",
   "id": "7cab1cf9c8b42302",
   "outputs": [],
   "execution_count": null
  }
 ],
 "metadata": {
  "kernelspec": {
   "display_name": "Python 3",
   "language": "python",
   "name": "python3"
  },
  "language_info": {
   "codemirror_mode": {
    "name": "ipython",
    "version": 2
   },
   "file_extension": ".py",
   "mimetype": "text/x-python",
   "name": "python",
   "nbconvert_exporter": "python",
   "pygments_lexer": "ipython2",
   "version": "2.7.6"
  }
 },
 "nbformat": 4,
 "nbformat_minor": 5
}
